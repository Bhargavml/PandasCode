{
 "cells": [
  {
   "cell_type": "markdown",
   "id": "17f10629-0415-4940-bd01-6f054012c54c",
   "metadata": {},
   "source": [
    "# Summary\n",
    "- Create array\n",
    "- Generative arrays using functions: </br>\n",
    "    1.linspace </br>\n",
    "    2.arange </br>\n",
    "    3.ones </br>\n",
    "    4.zeros </br>\n",
    "    5.random.rand </br>\n",
    "    6.logspace </br>\n",
    "- Advantages of numpy\n",
    "- Reshape an array\n",
    "- Numpy operations\n",
    "- Accessing Components\n",
    "- Subset of arrays\n",
    "- Modifying array"
   ]
  },
  {
   "cell_type": "markdown",
   "id": "91705906-83ab-4774-8444-8e9f29a85335",
   "metadata": {},
   "source": [
    "# Numerical Python (Numpy)"
   ]
  },
  {
   "cell_type": "code",
   "execution_count": 1,
   "id": "9f848b0b-b402-4f22-a44c-be86e924eb22",
   "metadata": {},
   "outputs": [],
   "source": [
    "import numpy as np"
   ]
  },
  {
   "cell_type": "markdown",
   "id": "c58911f4-9092-4bef-97cf-ea2e56f2384f",
   "metadata": {},
   "source": [
    "## 1. Create an Array"
   ]
  },
  {
   "cell_type": "code",
   "execution_count": 2,
   "id": "487065ec-1410-415a-a9c9-4e9682dd2e7c",
   "metadata": {},
   "outputs": [
    {
     "name": "stdout",
     "output_type": "stream",
     "text": [
      "<class 'numpy.ndarray'>\n"
     ]
    }
   ],
   "source": [
    "x = np.array([4,5,6,7,8])\n",
    "print(type(x))"
   ]
  },
  {
   "cell_type": "code",
   "execution_count": 3,
   "id": "175d62fa-e207-4b77-b26a-04ff85f33480",
   "metadata": {},
   "outputs": [
    {
     "name": "stdout",
     "output_type": "stream",
     "text": [
      "[4 5 6 7 8]\n"
     ]
    }
   ],
   "source": [
    "print(x)"
   ]
  },
  {
   "cell_type": "markdown",
   "id": "3f3b6f18-74ca-46cc-a3ce-d6f8f667ee0f",
   "metadata": {},
   "source": [
    "### Generating Arrays using linspace()"
   ]
  },
  {
   "cell_type": "code",
   "execution_count": 4,
   "id": "8da6cf6b-7cb8-46ef-98ae-8ba0420df8a9",
   "metadata": {},
   "outputs": [
    {
     "name": "stdout",
     "output_type": "stream",
     "text": [
      "[2.         2.44444444 2.88888889 3.33333333 3.77777778 4.22222222\n",
      " 4.66666667 5.11111111 5.55555556 6.        ]\n"
     ]
    }
   ],
   "source": [
    "# return step False\n",
    "b=np.linspace(start=2, stop=6, num=10, endpoint=True, retstep=False)\n",
    "print(b)"
   ]
  },
  {
   "cell_type": "code",
   "execution_count": 5,
   "id": "39eca575-2227-4990-942b-9313a54e5a94",
   "metadata": {},
   "outputs": [
    {
     "name": "stdout",
     "output_type": "stream",
     "text": [
      "(array([2.        , 2.44444444, 2.88888889, 3.33333333, 3.77777778,\n",
      "       4.22222222, 4.66666667, 5.11111111, 5.55555556, 6.        ]), 0.4444444444444444)\n"
     ]
    }
   ],
   "source": [
    "# return step True\n",
    "c=np.linspace(start=2, stop=6, num=10, endpoint=True, retstep=True)\n",
    "print(c)"
   ]
  },
  {
   "cell_type": "markdown",
   "id": "cc95c5dd-5d1c-44ea-b25d-e85e798bbf58",
   "metadata": {},
   "source": [
    "### Generating arrays using arange()"
   ]
  },
  {
   "cell_type": "code",
   "execution_count": 6,
   "id": "1851b10d-43b6-4455-b3a9-836f26106ff1",
   "metadata": {},
   "outputs": [
    {
     "name": "stdout",
     "output_type": "stream",
     "text": [
      "[1 3 5 7 9]\n"
     ]
    }
   ],
   "source": [
    "d=np.arange(1,10,2)\n",
    "print(d)"
   ]
  },
  {
   "cell_type": "markdown",
   "id": "cf3e844f-9df6-4579-8c2e-8484cb8ec3cd",
   "metadata": {},
   "source": [
    "### Generate Arrays using Ones()"
   ]
  },
  {
   "cell_type": "code",
   "execution_count": 10,
   "id": "b3bbdcb8-ac4f-4301-aaac-15f6c66ed1a9",
   "metadata": {},
   "outputs": [
    {
     "name": "stdout",
     "output_type": "stream",
     "text": [
      "[['1' '1' '1' '1' '1']\n",
      " ['1' '1' '1' '1' '1']\n",
      " ['1' '1' '1' '1' '1']\n",
      " ['1' '1' '1' '1' '1']]\n"
     ]
    }
   ],
   "source": [
    "e=np.ones((4,5), str) # default data type: Float\n",
    "print(e)"
   ]
  },
  {
   "cell_type": "markdown",
   "id": "54dc2ae8-4985-4492-8f50-10fa12719202",
   "metadata": {},
   "source": [
    "### Generate Arrays using zeros"
   ]
  },
  {
   "cell_type": "code",
   "execution_count": null,
   "id": "aee263de-bc18-496e-8257-4429610ffe28",
   "metadata": {},
   "outputs": [],
   "source": [
    "f=np.zeros((4,5))\n",
    "print(f)"
   ]
  },
  {
   "cell_type": "markdown",
   "id": "bbd388ac-9dea-45db-bd79-313029840554",
   "metadata": {},
   "source": [
    "### Generating Arrays using random.rand()"
   ]
  },
  {
   "cell_type": "code",
   "execution_count": 11,
   "id": "bdeaa4ae-67da-4445-9d3f-b7e410fe550a",
   "metadata": {},
   "outputs": [
    {
     "name": "stdout",
     "output_type": "stream",
     "text": [
      "[0.59344082 0.42421992 0.79174737 0.75463796 0.17702076]\n"
     ]
    }
   ],
   "source": [
    "g=np.random.rand(5)\n",
    "print(g)"
   ]
  },
  {
   "cell_type": "code",
   "execution_count": 12,
   "id": "2ca2c291-c15f-4517-8b47-7b289b3a6072",
   "metadata": {},
   "outputs": [
    {
     "name": "stdout",
     "output_type": "stream",
     "text": [
      "[[0.32378775 0.05073816 0.84300642]\n",
      " [0.52639805 0.90855922 0.86573605]\n",
      " [0.25928863 0.74773843 0.85155317]]\n"
     ]
    }
   ],
   "source": [
    "h=np.random.rand(3,3) # with prefered shape\n",
    "print(h)"
   ]
  },
  {
   "cell_type": "markdown",
   "id": "6ab8a555-c524-445c-8e28-60d69786ad56",
   "metadata": {},
   "source": [
    "### Generate arrays using logspace()"
   ]
  },
  {
   "cell_type": "code",
   "execution_count": 13,
   "id": "58eb44f0-e62e-49a2-a451-2bd3bd2337e5",
   "metadata": {},
   "outputs": [
    {
     "name": "stdout",
     "output_type": "stream",
     "text": [
      "[1.00000000e+01 1.77827941e+03 3.16227766e+05 5.62341325e+07\n",
      " 1.00000000e+10]\n"
     ]
    }
   ],
   "source": [
    "i=np.logspace(1, 10, num=5, endpoint=True, base=10.0)\n",
    "print(i)"
   ]
  },
  {
   "cell_type": "markdown",
   "id": "1cb1dcba-5ea4-405f-8007-8de2d9a505e0",
   "metadata": {},
   "source": [
    "### Advantage of Numpy-Speed"
   ]
  },
  {
   "cell_type": "code",
   "execution_count": 14,
   "id": "acd185a7-b8b8-4d41-af6e-cbf811e71d47",
   "metadata": {},
   "outputs": [
    {
     "name": "stdout",
     "output_type": "stream",
     "text": [
      "range(0, 1000)\n"
     ]
    }
   ],
   "source": [
    "j=range(1000)\n",
    "print(j)"
   ]
  },
  {
   "cell_type": "code",
   "execution_count": 15,
   "id": "c7053f87-2abc-4172-8044-279e93c3299c",
   "metadata": {},
   "outputs": [
    {
     "name": "stdout",
     "output_type": "stream",
     "text": [
      "7.14 µs ± 809 ns per loop (mean ± std. dev. of 7 runs, 100,000 loops each)\n"
     ]
    }
   ],
   "source": [
    "timeit sum(j)"
   ]
  },
  {
   "cell_type": "code",
   "execution_count": 16,
   "id": "ae461a70-5c1e-4622-9bc0-50ffae7a02a2",
   "metadata": {},
   "outputs": [],
   "source": [
    "k=np.array(j)"
   ]
  },
  {
   "cell_type": "code",
   "execution_count": 17,
   "id": "a23e4811-028b-49d9-8840-d297dc21aa78",
   "metadata": {},
   "outputs": [
    {
     "name": "stdout",
     "output_type": "stream",
     "text": [
      "36.9 µs ± 5.94 ns per loop (mean ± std. dev. of 7 runs, 10,000 loops each)\n"
     ]
    }
   ],
   "source": [
    "timeit sum(k)"
   ]
  },
  {
   "cell_type": "markdown",
   "id": "12f69f3c-632a-4913-8273-a4c12ec42e8f",
   "metadata": {},
   "source": [
    "### Advantage of numpy- storage space"
   ]
  },
  {
   "cell_type": "code",
   "execution_count": 18,
   "id": "c2593f34-ddde-4333-b88c-83c26564eca0",
   "metadata": {},
   "outputs": [],
   "source": [
    "import sys"
   ]
  },
  {
   "cell_type": "code",
   "execution_count": 19,
   "id": "a01a96d7-b1ae-4b04-8e94-8458b9efcf3b",
   "metadata": {},
   "outputs": [],
   "source": [
    "w=[1, 2, 3, 4]"
   ]
  },
  {
   "cell_type": "code",
   "execution_count": 20,
   "id": "bcd1b7c9-45cd-45f5-b7b6-654479145244",
   "metadata": {},
   "outputs": [
    {
     "data": {
      "text/plain": [
       "112"
      ]
     },
     "execution_count": 20,
     "metadata": {},
     "output_type": "execute_result"
    }
   ],
   "source": [
    "sys.getsizeof(1)*len(w)"
   ]
  },
  {
   "cell_type": "code",
   "execution_count": 21,
   "id": "7021c86b-5c51-4eb7-ae6f-68097f168594",
   "metadata": {},
   "outputs": [
    {
     "data": {
      "text/plain": [
       "80"
      ]
     },
     "execution_count": 21,
     "metadata": {},
     "output_type": "execute_result"
    }
   ],
   "source": [
    "b.itemsize * b.size"
   ]
  },
  {
   "cell_type": "markdown",
   "id": "fca1029b-b1bb-4713-9720-8132799d855b",
   "metadata": {},
   "source": [
    "## Reshaping an array"
   ]
  },
  {
   "cell_type": "code",
   "execution_count": 29,
   "id": "04c30934-6991-4610-bd31-eedd22bf1382",
   "metadata": {},
   "outputs": [
    {
     "name": "stdout",
     "output_type": "stream",
     "text": [
      "[[1 2 3]\n",
      " [4 5 6]\n",
      " [7 8 9]]\n"
     ]
    }
   ],
   "source": [
    "grid= np.arange(start=1, stop=10).reshape(3,3)\n",
    "print(grid)"
   ]
  },
  {
   "cell_type": "markdown",
   "id": "a84d06c6-e1cc-45d1-bd9a-1162be35611e",
   "metadata": {},
   "source": [
    "# Array dimensions"
   ]
  },
  {
   "cell_type": "markdown",
   "id": "b37f29b1-bbf8-44e8-b75c-3e1739a7fb1e",
   "metadata": {},
   "source": [
    "## Create an array"
   ]
  },
  {
   "cell_type": "code",
   "execution_count": 37,
   "id": "3b6cb66e-9a96-4280-94aa-79cc4a46601f",
   "metadata": {},
   "outputs": [
    {
     "name": "stdout",
     "output_type": "stream",
     "text": [
      "(3, 3)\n",
      "[[1 2 3]\n",
      " [4 5 6]\n",
      " [7 8 9]]\n"
     ]
    }
   ],
   "source": [
    "a = np.array([[1,2,3],[4,5,6],[7,8,9]])\n",
    "print(a.shape)\n",
    "print(a)"
   ]
  },
  {
   "cell_type": "code",
   "execution_count": 33,
   "id": "08665ffe-a3e2-4a52-ba84-0ba8b981dbc1",
   "metadata": {},
   "outputs": [
    {
     "name": "stdout",
     "output_type": "stream",
     "text": [
      "[[11 12 13]\n",
      " [14 15 16]\n",
      " [17 18 19]]\n"
     ]
    }
   ],
   "source": [
    "b= np.arange(11,20).reshape(3,3)\n",
    "print(b)"
   ]
  },
  {
   "cell_type": "markdown",
   "id": "01498597-102e-485d-af72-0b81d62c5fe1",
   "metadata": {},
   "source": [
    "## numpy Addition"
   ]
  },
  {
   "cell_type": "code",
   "execution_count": 35,
   "id": "4663b897-1358-4bea-bdc6-89ca619e7128",
   "metadata": {},
   "outputs": [
    {
     "name": "stdout",
     "output_type": "stream",
     "text": [
      "[[12 14 16]\n",
      " [18 20 22]\n",
      " [24 26 28]]\n"
     ]
    }
   ],
   "source": [
    "add = np.add(a,b)\n",
    "print(add)"
   ]
  },
  {
   "cell_type": "markdown",
   "id": "b997e13d-26e3-42f5-b1d3-352ee211e99c",
   "metadata": {},
   "source": [
    "## numpy multipliction"
   ]
  },
  {
   "cell_type": "code",
   "execution_count": 39,
   "id": "db5f1eee-0b02-4f75-b018-333937874da4",
   "metadata": {},
   "outputs": [
    {
     "name": "stdout",
     "output_type": "stream",
     "text": [
      "[[ 11  24  39]\n",
      " [ 56  75  96]\n",
      " [119 144 171]]\n"
     ]
    }
   ],
   "source": [
    "mul = np.multiply(a,b)\n",
    "print(mul)"
   ]
  },
  {
   "cell_type": "markdown",
   "id": "304de492-2945-4da2-89bb-3118d6a254bc",
   "metadata": {},
   "source": [
    "## numpy Subtract"
   ]
  },
  {
   "cell_type": "code",
   "execution_count": 41,
   "id": "2cfb2264-aae2-4fc6-8079-76f7b61d135e",
   "metadata": {},
   "outputs": [
    {
     "name": "stdout",
     "output_type": "stream",
     "text": [
      "[[-10 -10 -10]\n",
      " [-10 -10 -10]\n",
      " [-10 -10 -10]]\n"
     ]
    }
   ],
   "source": [
    "sub = np.subtract(a,b)\n",
    "print(sub)"
   ]
  },
  {
   "cell_type": "markdown",
   "id": "45f35a20-18a8-4889-ad31-25100bfea574",
   "metadata": {},
   "source": [
    "## numpy Divide"
   ]
  },
  {
   "cell_type": "code",
   "execution_count": 43,
   "id": "2719d274-6886-4646-84c1-c500918667bf",
   "metadata": {},
   "outputs": [
    {
     "name": "stdout",
     "output_type": "stream",
     "text": [
      "[[0.09090909 0.16666667 0.23076923]\n",
      " [0.28571429 0.33333333 0.375     ]\n",
      " [0.41176471 0.44444444 0.47368421]]\n"
     ]
    }
   ],
   "source": [
    "div = np.divide(a,b)\n",
    "print(div)"
   ]
  },
  {
   "cell_type": "markdown",
   "id": "54762585-a7b8-4d6f-9096-401d1cd5402f",
   "metadata": {},
   "source": [
    "## numpy remainder"
   ]
  },
  {
   "cell_type": "code",
   "execution_count": 45,
   "id": "40561b29-f3eb-43b3-9373-adb14caa16c6",
   "metadata": {},
   "outputs": [
    {
     "name": "stdout",
     "output_type": "stream",
     "text": [
      "[[1 2 3]\n",
      " [4 5 6]\n",
      " [7 8 9]]\n"
     ]
    }
   ],
   "source": [
    "rem = np.remainder(a,b)\n",
    "print(rem)"
   ]
  },
  {
   "cell_type": "markdown",
   "id": "4ae2e214-ce98-495d-b3a7-07e3f880ff57",
   "metadata": {},
   "source": [
    "# Accessing components of an array"
   ]
  },
  {
   "cell_type": "code",
   "execution_count": 48,
   "id": "ead65f1b-affa-4648-bac3-92b4f263137a",
   "metadata": {},
   "outputs": [
    {
     "name": "stdout",
     "output_type": "stream",
     "text": [
      "[[11 12 13]\n",
      " [14 15 16]\n",
      " [17 18 19]]\n"
     ]
    }
   ],
   "source": [
    "print(b)"
   ]
  },
  {
   "cell_type": "code",
   "execution_count": 51,
   "id": "d423ed92-6235-43a7-bceb-b9f1490dc954",
   "metadata": {},
   "outputs": [
    {
     "data": {
      "text/plain": [
       "15"
      ]
     },
     "execution_count": 51,
     "metadata": {},
     "output_type": "execute_result"
    }
   ],
   "source": [
    "b[1,1]"
   ]
  },
  {
   "cell_type": "code",
   "execution_count": 52,
   "id": "12a64b4f-dbef-4291-980b-125de3232124",
   "metadata": {},
   "outputs": [
    {
     "name": "stdout",
     "output_type": "stream",
     "text": [
      "[[1 2 3]\n",
      " [4 5 6]\n",
      " [7 8 9]]\n"
     ]
    }
   ],
   "source": [
    "print(a)"
   ]
  },
  {
   "cell_type": "code",
   "execution_count": 58,
   "id": "ae0cf852-a8bd-4797-88f9-d891333b2024",
   "metadata": {},
   "outputs": [
    {
     "data": {
      "text/plain": [
       "array([[4, 5, 6],\n",
       "       [7, 8, 9]])"
      ]
     },
     "execution_count": 58,
     "metadata": {},
     "output_type": "execute_result"
    }
   ],
   "source": [
    "a[1:3] # Extract elements from second and third row of array "
   ]
  },
  {
   "cell_type": "code",
   "execution_count": 59,
   "id": "a9acf284-fdd9-4ac1-aa50-54cca095cf1c",
   "metadata": {},
   "outputs": [
    {
     "data": {
      "text/plain": [
       "array([1, 4, 7])"
      ]
     },
     "execution_count": 59,
     "metadata": {},
     "output_type": "execute_result"
    }
   ],
   "source": [
    "a[:,0] # Extract elements from first columnb of array a"
   ]
  },
  {
   "cell_type": "code",
   "execution_count": 64,
   "id": "24f97529-aef4-4a4b-86e3-fd5496f3cb7a",
   "metadata": {},
   "outputs": [
    {
     "data": {
      "text/plain": [
       "array([1])"
      ]
     },
     "execution_count": 64,
     "metadata": {},
     "output_type": "execute_result"
    }
   ],
   "source": [
    "a[0,:] # extract elements the first row of array"
   ]
  },
  {
   "cell_type": "markdown",
   "id": "fef8e08b-e3a8-474e-a79c-5122226ee3cc",
   "metadata": {},
   "source": [
    "## Subset of arrays"
   ]
  },
  {
   "cell_type": "code",
   "execution_count": 65,
   "id": "4e3f78d7-5102-456c-bdb9-24128687d879",
   "metadata": {},
   "outputs": [
    {
     "name": "stdout",
     "output_type": "stream",
     "text": [
      "[[11 12 13]\n",
      " [14 15 16]\n",
      " [17 18 19]]\n"
     ]
    }
   ],
   "source": [
    "print(b)"
   ]
  },
  {
   "cell_type": "code",
   "execution_count": 81,
   "id": "dc9923f8-8211-4088-858e-51deccb5f1b4",
   "metadata": {},
   "outputs": [
    {
     "name": "stdout",
     "output_type": "stream",
     "text": [
      "[[15 16]\n",
      " [18 19]]\n"
     ]
    }
   ],
   "source": [
    "b_sub=b[1:3,1:3]\n",
    "print(b_sub)"
   ]
  },
  {
   "cell_type": "code",
   "execution_count": 82,
   "id": "bf6c290d-87ce-4426-9624-8b887b72ba0b",
   "metadata": {},
   "outputs": [],
   "source": [
    "b_sub[1,1]= 20"
   ]
  },
  {
   "cell_type": "code",
   "execution_count": 83,
   "id": "bc8841f5-4c7a-4624-941d-674664f6b09b",
   "metadata": {},
   "outputs": [
    {
     "name": "stdout",
     "output_type": "stream",
     "text": [
      "[[15 16]\n",
      " [18 20]]\n"
     ]
    }
   ],
   "source": [
    "print(b_sub)"
   ]
  },
  {
   "cell_type": "markdown",
   "id": "7d90b08b-5b4c-499c-8b65-49ce32183144",
   "metadata": {},
   "source": [
    "## Modifying Array using append()"
   ]
  },
  {
   "cell_type": "code",
   "execution_count": 85,
   "id": "840914c7-e160-421b-b914-58e3a0f97b09",
   "metadata": {},
   "outputs": [
    {
     "name": "stdout",
     "output_type": "stream",
     "text": [
      "[[21]\n",
      " [22]\n",
      " [23]]\n"
     ]
    }
   ],
   "source": [
    "col = np.array([21, 22, 23]).reshape(3,1)\n",
    "print(col)"
   ]
  },
  {
   "cell_type": "code",
   "execution_count": 88,
   "id": "cecd2344-a651-4933-80fc-875134f58dcb",
   "metadata": {},
   "outputs": [
    {
     "name": "stdout",
     "output_type": "stream",
     "text": [
      "[[ 1  2  3 21]\n",
      " [ 4  5  6 22]\n",
      " [ 7  8  9 23]]\n"
     ]
    }
   ],
   "source": [
    "a_col = np.append(a, col, axis=1)\n",
    "print(a_col)"
   ]
  },
  {
   "cell_type": "markdown",
   "id": "0a23d839-9c58-425c-ba4e-b706e6e95508",
   "metadata": {},
   "source": [
    "# Modify array using insert()"
   ]
  },
  {
   "cell_type": "code",
   "execution_count": 92,
   "id": "67b3d8f4-efb9-4062-a5b2-9da752aa07f6",
   "metadata": {},
   "outputs": [
    {
     "name": "stdout",
     "output_type": "stream",
     "text": [
      "[[1 2 3]\n",
      " [4 5 6]\n",
      " [7 8 9]]\n"
     ]
    }
   ],
   "source": [
    "print(a)"
   ]
  },
  {
   "cell_type": "code",
   "execution_count": 93,
   "id": "b5ae1c49-2629-4fb8-a2cd-19a5a3580740",
   "metadata": {},
   "outputs": [
    {
     "name": "stdout",
     "output_type": "stream",
     "text": [
      "[[11 12 13]\n",
      " [14 15 16]\n",
      " [17 18 20]]\n"
     ]
    }
   ],
   "source": [
    "print(b)"
   ]
  },
  {
   "cell_type": "code",
   "execution_count": 94,
   "id": "10e20c9f-b492-468e-93d6-2434cf3d5e04",
   "metadata": {},
   "outputs": [],
   "source": [
    "a_ins = np.insert(a, 3, b[1:3], axis=0)"
   ]
  },
  {
   "cell_type": "code",
   "execution_count": 95,
   "id": "1c9dadba-df4a-4ae0-a566-09414d5cc07e",
   "metadata": {},
   "outputs": [
    {
     "name": "stdout",
     "output_type": "stream",
     "text": [
      "[[ 1  2  3]\n",
      " [ 4  5  6]\n",
      " [ 7  8  9]\n",
      " [14 15 16]\n",
      " [17 18 20]]\n"
     ]
    }
   ],
   "source": [
    "print(a_ins)"
   ]
  },
  {
   "cell_type": "markdown",
   "id": "0f02994d-205a-49dc-b27f-3096bc5df2e0",
   "metadata": {},
   "source": [
    "# Modifying array using delete()"
   ]
  },
  {
   "cell_type": "code",
   "execution_count": 102,
   "id": "188974a1-7001-486c-9b74-17e87abc663c",
   "metadata": {},
   "outputs": [],
   "source": [
    "a_del=np.delete(a_ins, 4, axis=0)"
   ]
  },
  {
   "cell_type": "code",
   "execution_count": 103,
   "id": "4979dd2c-a941-48e4-bddb-db389a76daad",
   "metadata": {},
   "outputs": [
    {
     "name": "stdout",
     "output_type": "stream",
     "text": [
      "[[ 1  2  3]\n",
      " [ 4  5  6]\n",
      " [ 7  8  9]\n",
      " [14 15 16]]\n"
     ]
    }
   ],
   "source": [
    "print(a_del)"
   ]
  },
  {
   "cell_type": "markdown",
   "id": "9977ce57-045f-479a-93fc-3a7d2e15f335",
   "metadata": {},
   "source": [
    "# --- END ---"
   ]
  }
 ],
 "metadata": {
  "kernelspec": {
   "display_name": "Python 3 (ipykernel)",
   "language": "python",
   "name": "python3"
  },
  "language_info": {
   "codemirror_mode": {
    "name": "ipython",
    "version": 3
   },
   "file_extension": ".py",
   "mimetype": "text/x-python",
   "name": "python",
   "nbconvert_exporter": "python",
   "pygments_lexer": "ipython3",
   "version": "3.11.8"
  }
 },
 "nbformat": 4,
 "nbformat_minor": 5
}
