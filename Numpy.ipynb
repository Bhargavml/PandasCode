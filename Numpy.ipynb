{
 "cells": [
  {
   "cell_type": "markdown",
   "id": "acbb24dd-810d-4b0f-90ec-b197405d8d3d",
   "metadata": {},
   "source": [
    "## NumPy"
   ]
  },
  {
   "cell_type": "markdown",
   "id": "3ead2751-2107-46d7-93c3-73693ac28482",
   "metadata": {},
   "source": [
    "NumPy is a python package and it stands for numerical python.\\\n",
    "Fundamental package for numerical computations in python.\\\n",
    "Supports N-dimensional array objects that can be used for processing mutidimentional data\\\n",
    "Supports different data-types"
   ]
  },
  {
   "cell_type": "markdown",
   "id": "68b527ef-1fd0-4458-9667-4fb55a66d6ef",
   "metadata": {},
   "source": [
    "## Array"
   ]
  },
  {
   "cell_type": "markdown",
   "id": "0cb28d27-028e-40b3-8d4c-5a7213ab81c9",
   "metadata": {},
   "source": [
    "An array is a data structure that stores values of same data type.\\\n",
    "Lists can contain values corresponding to different data types.\\\n",
    "Arrays in python can only contain values corresponding to same data type"
   ]
  },
  {
   "cell_type": "markdown",
   "id": "6e9264d9-df06-4114-9e2d-7d9a991b0d5c",
   "metadata": {},
   "source": [
    "## NumPy Array"
   ]
  },
  {
   "cell_type": "markdown",
   "id": "2ab49675-aeda-4e9a-9d49-c14a1515fb36",
   "metadata": {},
   "source": [
    "A NumPy array is a grid of values, all of the same type, and is indexed by a tuple of non-negative integers. \\\n",
    "the number of columns is the rank of the array.\\\n",
    "The shape of an array is a tuple of integers giving the size of the array along each dimension."
   ]
  },
  {
   "cell_type": "markdown",
   "id": "3152a7f9-da0a-49b4-b1bb-548fbb34d89b",
   "metadata": {},
   "source": [
    "## Creation of array"
   ]
  },
  {
   "cell_type": "code",
   "execution_count": 5,
   "id": "9cac443f-0f02-4140-9e09-3ecf6f167060",
   "metadata": {},
   "outputs": [
    {
     "name": "stdout",
     "output_type": "stream",
     "text": [
      "[1, 2, 3, 4, 5, 6]\n"
     ]
    }
   ],
   "source": [
    "my_list = [1, 2, 3, 4, 5, 6]\n",
    "print(my_list)"
   ]
  },
  {
   "cell_type": "markdown",
   "id": "9de675ae-852a-45bf-bb89-bf116052d991",
   "metadata": {},
   "source": [
    "##### To create numpy array, we first need to import the numpy package\n",
    "pip install numpy"
   ]
  },
  {
   "cell_type": "code",
   "execution_count": 3,
   "id": "c913529c-d90c-4212-86be-6f9476e0e7c2",
   "metadata": {},
   "outputs": [],
   "source": [
    "import numpy as np"
   ]
  },
  {
   "cell_type": "code",
   "execution_count": 7,
   "id": "b4bca1f2-f3a2-4eb7-9519-769ccc98b98a",
   "metadata": {},
   "outputs": [
    {
     "name": "stdout",
     "output_type": "stream",
     "text": [
      "[1 2 3 4 5 6]\n"
     ]
    }
   ],
   "source": [
    "array = np.array(my_list, dtype = int)\n",
    "print(array)"
   ]
  },
  {
   "cell_type": "code",
   "execution_count": 13,
   "id": "6e9bab4d-25a4-4cbe-acbb-841f6935b58c",
   "metadata": {},
   "outputs": [
    {
     "name": "stdout",
     "output_type": "stream",
     "text": [
      "<class 'numpy.ndarray'>\n",
      "6\n",
      "1\n",
      "(6,)\n"
     ]
    }
   ],
   "source": [
    "print(type(array))\n",
    "print(len(array))\n",
    "print(array.ndim)\n",
    "print(array.shape)"
   ]
  },
  {
   "cell_type": "code",
   "execution_count": 14,
   "id": "5bcb54c9-b526-44b7-aec1-579a681981d7",
   "metadata": {},
   "outputs": [
    {
     "name": "stdout",
     "output_type": "stream",
     "text": [
      "[[1 2]\n",
      " [3 4]\n",
      " [5 6]]\n"
     ]
    },
    {
     "data": {
      "text/plain": [
       "(3, 2)"
      ]
     },
     "execution_count": 14,
     "metadata": {},
     "output_type": "execute_result"
    }
   ],
   "source": [
    "array2 = array.reshape(3, 2) # reshape(rows, columns)\n",
    "print(array2)\n",
    "array2.shape"
   ]
  },
  {
   "cell_type": "code",
   "execution_count": 16,
   "id": "a0739dd5-7e67-424c-a767-992fc8081ec8",
   "metadata": {},
   "outputs": [
    {
     "name": "stdout",
     "output_type": "stream",
     "text": [
      "[[1 2]\n",
      " [3 4]\n",
      " [5 6]]\n",
      "2\n"
     ]
    }
   ],
   "source": [
    "array3 = array.reshape(3, -1)\n",
    "print(array3)\n",
    "print(array3.ndim)"
   ]
  },
  {
   "cell_type": "code",
   "execution_count": 18,
   "id": "ff70c661-4a32-4ff6-9d11-19f0d40b9202",
   "metadata": {},
   "outputs": [
    {
     "name": "stdout",
     "output_type": "stream",
     "text": [
      "[[1 2 3 4 5]\n",
      " [2 3 4 5 6]\n",
      " [9 7 6 8 9]]\n",
      "(3, 5)\n"
     ]
    }
   ],
   "source": [
    "## Initializing numpy arrays from nested python lists\n",
    "\n",
    "my_list2 = [ 1, 2, 3, 4, 5 ]\n",
    "my_list3 = [ 2, 3, 4, 5, 6 ]\n",
    "my_list4 = [ 9, 7, 6, 8, 9 ]\n",
    "\n",
    "mul_arr = np.array([my_list2, my_list3, my_list4])\n",
    "print(mul_arr)\n",
    "\n",
    "print(mul_arr.shape)"
   ]
  },
  {
   "cell_type": "code",
   "execution_count": 19,
   "id": "eb75f67b-72b7-4be3-9feb-7b8b69b014bf",
   "metadata": {},
   "outputs": [
    {
     "data": {
      "text/plain": [
       "array([[1, 2, 3, 4, 5, 2, 3, 4, 5, 6, 9, 7, 6, 8, 9]])"
      ]
     },
     "execution_count": 19,
     "metadata": {},
     "output_type": "execute_result"
    }
   ],
   "source": [
    "mul_arr.reshape(1,15)\n"
   ]
  },
  {
   "cell_type": "code",
   "execution_count": null,
   "id": "dbed2323-cf88-4262-9ec7-b3216fbf0df2",
   "metadata": {},
   "outputs": [],
   "source": [
    "## NumPy-Atrributes"
   ]
  },
  {
   "cell_type": "code",
   "execution_count": 20,
   "id": "a5fb1b00-ba32-4199-893f-119505f1bcac",
   "metadata": {},
   "outputs": [
    {
     "name": "stdout",
     "output_type": "stream",
     "text": [
      "(2, 3)\n"
     ]
    }
   ],
   "source": [
    "a = np.array([[1,2,3],[4,5,6]])\n",
    "print(a.shape)"
   ]
  },
  {
   "cell_type": "code",
   "execution_count": 21,
   "id": "61717dfb-b75a-446b-a65e-d7fb682e4b12",
   "metadata": {},
   "outputs": [
    {
     "name": "stdout",
     "output_type": "stream",
     "text": [
      "[[1 2]\n",
      " [3 4]\n",
      " [5 6]]\n"
     ]
    }
   ],
   "source": [
    "# reshaping the ndarray\n",
    "a.shape = (3,2)     # different way\n",
    "print(a)"
   ]
  },
  {
   "cell_type": "code",
   "execution_count": 22,
   "id": "99464b24-23b2-4bbc-be0c-54f762dbee42",
   "metadata": {},
   "outputs": [
    {
     "name": "stdout",
     "output_type": "stream",
     "text": [
      "[[1 2]\n",
      " [3 4]\n",
      " [5 6]]\n"
     ]
    }
   ],
   "source": [
    "# Reshaping function to resize an array\n",
    "b = a.reshape(3,2)\n",
    "print(b)"
   ]
  },
  {
   "cell_type": "code",
   "execution_count": 23,
   "id": "f56f78f4-9299-4da9-9022-f264be9a0e7d",
   "metadata": {},
   "outputs": [],
   "source": [
    "r = range(24)"
   ]
  },
  {
   "cell_type": "code",
   "execution_count": 24,
   "id": "172415c1-7a57-4270-ad06-e7a2b2501b66",
   "metadata": {},
   "outputs": [
    {
     "name": "stdout",
     "output_type": "stream",
     "text": [
      "range(0, 24)\n"
     ]
    }
   ],
   "source": [
    "print(r)"
   ]
  },
  {
   "cell_type": "code",
   "execution_count": 25,
   "id": "96bb7524-b8b5-4ba4-886b-1b5b392ff77c",
   "metadata": {},
   "outputs": [
    {
     "name": "stdout",
     "output_type": "stream",
     "text": [
      "[ 0  1  2  3  4  5  6  7  8  9 10 11 12 13 14 15 16 17 18 19 20 21 22 23]\n",
      "1\n"
     ]
    }
   ],
   "source": [
    "# an array of evenly spaced numbers\n",
    "a = np.arange(24)\n",
    "print(a)\n",
    "print(a.ndim)"
   ]
  },
  {
   "cell_type": "code",
   "execution_count": 26,
   "id": "92e8978e-e75b-4bd7-a338-2bb150894838",
   "metadata": {},
   "outputs": [
    {
     "name": "stdout",
     "output_type": "stream",
     "text": [
      "[[[ 0]\n",
      "  [ 1]\n",
      "  [ 2]\n",
      "  [ 3]]\n",
      "\n",
      " [[ 4]\n",
      "  [ 5]\n",
      "  [ 6]\n",
      "  [ 7]]\n",
      "\n",
      " [[ 8]\n",
      "  [ 9]\n",
      "  [10]\n",
      "  [11]]\n",
      "\n",
      " [[12]\n",
      "  [13]\n",
      "  [14]\n",
      "  [15]]\n",
      "\n",
      " [[16]\n",
      "  [17]\n",
      "  [18]\n",
      "  [19]]\n",
      "\n",
      " [[20]\n",
      "  [21]\n",
      "  [22]\n",
      "  [23]]]\n"
     ]
    }
   ],
   "source": [
    "# Reshaping the array 'a'\n",
    "b = a.reshape(6, 4, 1)    # (no of vectors, rows, columns)\n",
    "print(b)"
   ]
  },
  {
   "cell_type": "markdown",
   "id": "cde13db0-fa4d-46d9-ab9b-fdfeb16cc72d",
   "metadata": {},
   "source": [
    "### numpy.add() - performs elementwise addition between two arrays\n",
    "Syntax: numpy.add(array_1,array_2)"
   ]
  },
  {
   "cell_type": "code",
   "execution_count": 36,
   "id": "4448e38c-6e00-49d2-8fbe-79503abcd5b7",
   "metadata": {},
   "outputs": [
    {
     "name": "stdout",
     "output_type": "stream",
     "text": [
      "[[ 6.  8.]\n",
      " [10. 12.]]\n",
      "[[ 6.  8.]\n",
      " [10. 12.]]\n"
     ]
    }
   ],
   "source": [
    "x = np.array([[1,2],[3,4]], dtype=np.float64)\n",
    "y = np.array([[5,6],[7,8]], dtype=np.float64)\n",
    "print(x+y)\n",
    "print(np.add(x, y))"
   ]
  },
  {
   "cell_type": "markdown",
   "id": "d70c7e1d-851a-4259-8723-67d2359b0bfe",
   "metadata": {},
   "source": [
    "### numpy.subtract() - performs elementwise substraction between two arrays\n",
    "Syntax: numpy.subract(array_1,array_2)"
   ]
  },
  {
   "cell_type": "code",
   "execution_count": 38,
   "id": "fffad47e-e6c3-446a-a3bf-9151b112762d",
   "metadata": {},
   "outputs": [
    {
     "name": "stdout",
     "output_type": "stream",
     "text": [
      "[[-4. -4.]\n",
      " [-4. -4.]]\n",
      "[[-4. -4.]\n",
      " [-4. -4.]]\n"
     ]
    }
   ],
   "source": [
    "print(x - y)\n",
    "print(np.subtract(x, y))"
   ]
  },
  {
   "cell_type": "markdown",
   "id": "11d7c59f-fa3d-4bcc-8500-196dd70cfb9f",
   "metadata": {},
   "source": [
    "### numpy.multiply() - performs elementwise multiplication between two arrays\n",
    "Syntax: numpy.multiply(array_1,array_2)"
   ]
  },
  {
   "cell_type": "code",
   "execution_count": 40,
   "id": "d0d245e6-7045-411f-8908-ac743f7ebc42",
   "metadata": {},
   "outputs": [
    {
     "name": "stdout",
     "output_type": "stream",
     "text": [
      "[[ 5. 12.]\n",
      " [21. 32.]]\n",
      "[[ 5. 12.]\n",
      " [21. 32.]]\n"
     ]
    }
   ],
   "source": [
    "print(x * y)\n",
    "print(np.multiply(x,y))"
   ]
  },
  {
   "cell_type": "code",
   "execution_count": 42,
   "id": "09bb3d84-4d80-444d-8ba3-c5084607d164",
   "metadata": {},
   "outputs": [
    {
     "name": "stdout",
     "output_type": "stream",
     "text": [
      "[[19. 22.]\n",
      " [43. 50.]]\n",
      "[[19. 22.]\n",
      " [43. 50.]]\n"
     ]
    }
   ],
   "source": [
    "print(x.dot(y))\n",
    "print(np.dot(x,y))"
   ]
  },
  {
   "cell_type": "code",
   "execution_count": 44,
   "id": "4e1b3b6b-0169-4a2c-bbf4-aa83f0f324da",
   "metadata": {},
   "outputs": [
    {
     "name": "stdout",
     "output_type": "stream",
     "text": [
      "[[0.2        0.33333333]\n",
      " [0.42857143 0.5       ]]\n",
      "[[0.2        0.33333333]\n",
      " [0.42857143 0.5       ]]\n"
     ]
    }
   ],
   "source": [
    "print(x / y)\n",
    "print(np.divide(x,y))"
   ]
  },
  {
   "cell_type": "markdown",
   "id": "3b11e5a1-f6a4-44f0-844f-90557e0c1cd6",
   "metadata": {},
   "source": [
    "### numpy.sum() - returns sum of all array elements or sum of all array elements over a given axis\n",
    "Syntax: numpy.sum(array.axis)"
   ]
  },
  {
   "cell_type": "code",
   "execution_count": 45,
   "id": "a8e9ff42-aeca-4a0c-937e-63242c79465d",
   "metadata": {},
   "outputs": [
    {
     "name": "stdout",
     "output_type": "stream",
     "text": [
      "10.0\n"
     ]
    }
   ],
   "source": [
    "print(np.sum(x))        # compute overall sum (axis-none)"
   ]
  },
  {
   "cell_type": "code",
   "execution_count": 46,
   "id": "e117b020-b55d-4e90-bc20-5b5e1f2e0f5a",
   "metadata": {},
   "outputs": [
    {
     "name": "stdout",
     "output_type": "stream",
     "text": [
      "[4. 6.]\n"
     ]
    }
   ],
   "source": [
    "print(np.sum(x, axis=0))    # compute sum of each column"
   ]
  },
  {
   "cell_type": "code",
   "execution_count": 47,
   "id": "c125f2bc-7bab-4be6-a0e6-4b81d19c7fa0",
   "metadata": {},
   "outputs": [
    {
     "name": "stdout",
     "output_type": "stream",
     "text": [
      "[3. 7.]\n"
     ]
    }
   ],
   "source": [
    "print(np.sum(x, axis=1))    # compute sum of each row"
   ]
  },
  {
   "cell_type": "code",
   "execution_count": 4,
   "id": "52ff18c1-a8a9-4a2a-b2db-586bb4d33f80",
   "metadata": {},
   "outputs": [],
   "source": [
    "x = np.array([1, -1, 2])\n",
    "y = np.array([2, 5, 2])"
   ]
  },
  {
   "cell_type": "code",
   "execution_count": 5,
   "id": "55b7d286-5779-45c4-9d50-dff7ff369d5b",
   "metadata": {},
   "outputs": [
    {
     "name": "stdout",
     "output_type": "stream",
     "text": [
      "[3 4 4]\n"
     ]
    }
   ],
   "source": [
    "print(x+y)"
   ]
  },
  {
   "cell_type": "code",
   "execution_count": 6,
   "id": "2435b4fe-1903-4e5a-9a99-854ac97afe24",
   "metadata": {},
   "outputs": [
    {
     "name": "stdout",
     "output_type": "stream",
     "text": [
      "[-1 -6  0]\n"
     ]
    }
   ],
   "source": [
    "print(x-y)"
   ]
  },
  {
   "cell_type": "code",
   "execution_count": 8,
   "id": "67cf6355-f855-47b9-9613-2c7422bd92ec",
   "metadata": {},
   "outputs": [
    {
     "name": "stdout",
     "output_type": "stream",
     "text": [
      "[ 3 -3  6]\n"
     ]
    }
   ],
   "source": [
    "#scalar mult:\n",
    "print(3*x)"
   ]
  },
  {
   "cell_type": "code",
   "execution_count": 10,
   "id": "3f10b1a5-09dd-46ec-bbad-6e9f43feaf2e",
   "metadata": {},
   "outputs": [
    {
     "name": "stdout",
     "output_type": "stream",
     "text": [
      "2.449489742783178\n"
     ]
    }
   ],
   "source": [
    "print(np.linalg.norm(x))  #length"
   ]
  },
  {
   "cell_type": "code",
   "execution_count": 11,
   "id": "c394c351-4127-4d71-8dc4-dc9054576875",
   "metadata": {},
   "outputs": [
    {
     "name": "stdout",
     "output_type": "stream",
     "text": [
      "1\n"
     ]
    }
   ],
   "source": [
    "s=np.dot(x,y)\n",
    "print(s)"
   ]
  },
  {
   "cell_type": "code",
   "execution_count": null,
   "id": "ab09bda0-2c62-4ed5-b1c3-68145c31274b",
   "metadata": {},
   "outputs": [],
   "source": []
  }
 ],
 "metadata": {
  "kernelspec": {
   "display_name": "Python 3 (ipykernel)",
   "language": "python",
   "name": "python3"
  },
  "language_info": {
   "codemirror_mode": {
    "name": "ipython",
    "version": 3
   },
   "file_extension": ".py",
   "mimetype": "text/x-python",
   "name": "python",
   "nbconvert_exporter": "python",
   "pygments_lexer": "ipython3",
   "version": "3.9.18"
  }
 },
 "nbformat": 4,
 "nbformat_minor": 5
}
